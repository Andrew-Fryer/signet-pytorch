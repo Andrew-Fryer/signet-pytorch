{
  "cells": [
    {
      "cell_type": "markdown",
      "metadata": {
        "id": "view-in-github",
        "colab_type": "text"
      },
      "source": [
        "<a href=\"https://colab.research.google.com/github/Andrew-Fryer/signet-pytorch/blob/master/ELEC_874_Project.ipynb\" target=\"_parent\"><img src=\"https://colab.research.google.com/assets/colab-badge.svg\" alt=\"Open In Colab\"/></a>"
      ]
    },
    {
      "cell_type": "code",
      "execution_count": null,
      "metadata": {
        "id": "u38_ewFDdoR0"
      },
      "outputs": [],
      "source": [
        ""
      ]
    },
    {
      "cell_type": "markdown",
      "source": [
        "I'm building off of this: https://github.com/VinhLoiIT/signet-pytorch"
      ],
      "metadata": {
        "id": "DRpx2FlQgmVM"
      }
    },
    {
      "cell_type": "code",
      "source": [
        "import sys\n",
        "print(sys.version)\n",
        "\n",
        "import os\n",
        "import numpy as np\n",
        "import pandas as pd\n",
        "import itertools\n",
        "import glob\n",
        "from PIL import Image, ImageOps\n",
        "import torch\n",
        "import torch.nn.functional as F\n",
        "import torch.nn as nn\n",
        "import torch.optim as optim\n",
        "import torchvision\n",
        "from torchsummary import summary\n",
        "import matplotlib.pyplot as plt\n",
        "import datetime\n",
        "\n",
        "from torch.utils.data import Dataset, DataLoader"
      ],
      "metadata": {
        "colab": {
          "base_uri": "https://localhost:8080/"
        },
        "id": "JzYO-rO1gKaS",
        "outputId": "ed1504ae-8083-4f3d-c30b-38bc490168c9"
      },
      "execution_count": 4,
      "outputs": [
        {
          "output_type": "stream",
          "name": "stdout",
          "text": [
            "3.7.13 (default, Mar 16 2022, 17:37:17) \n",
            "[GCC 7.5.0]\n"
          ]
        }
      ]
    },
    {
      "cell_type": "code",
      "execution_count": 5,
      "metadata": {
        "id": "mymiSKW5doR3",
        "colab": {
          "base_uri": "https://localhost:8080/"
        },
        "outputId": "bd627d62-26aa-494b-e54b-4056eb68ee4f"
      },
      "outputs": [
        {
          "output_type": "stream",
          "name": "stdout",
          "text": [
            "Drive already mounted at /content/drive; to attempt to forcibly remount, call drive.mount(\"/content/drive\", force_remount=True).\n"
          ]
        }
      ],
      "source": [
        "from google.colab import drive\n",
        "drive.mount('/content/drive')\n",
        "data_dir = 'drive/MyDrive/Colab Data/'\n",
        "sig_data_dir = data_dir + 'cedar_signatures/'"
      ]
    },
    {
      "cell_type": "code",
      "source": [
        "def get_files(csv_file: str):\n",
        "  df = pd.read_csv(csv_file, header=None)\n",
        "  files = set()\n",
        "  for i in range(len(df)):\n",
        "    x1, x2, y = df.iloc[i]\n",
        "    files.add(x1)\n",
        "    files.add(x2)\n",
        "  return list(files)\n",
        "\n",
        "class ImgDataset(Dataset):\n",
        "  def __init__(self, files, image_transform):\n",
        "    self.files = files\n",
        "    self.image_transform = image_transform\n",
        "  def __len__(self):\n",
        "    return len(self.files)\n",
        "  def __getitem__(self, index):\n",
        "    x = self.files[index]\n",
        "    # hack off the \"data/CEDAR/\" and add on sig_data_dir\n",
        "    x = sig_data_dir + x[11:]\n",
        "    # x = torchvision.io.read_image(x)\n",
        "    x = Image.open(x).convert('L')\n",
        "    x = self.image_transform(x)\n",
        "    return x\n",
        "\n",
        "no_norm_transform = torchvision.transforms.Compose([\n",
        "    torchvision.transforms.Resize((155, 220)),\n",
        "    ImageOps.invert,\n",
        "    torchvision.transforms.ToTensor(),\n",
        "])\n",
        "files = get_files(sig_data_dir + \"train.csv\")\n",
        "print('num files:', len(files))\n",
        "train_image_set = ImgDataset(files, no_norm_transform)\n",
        "\n",
        "imgs = torch.stack([item[0] for item in train_image_set], dim=0).numpy()"
      ],
      "metadata": {
        "colab": {
          "base_uri": "https://localhost:8080/",
          "height": 364
        },
        "id": "D_W3HWoUe2m1",
        "outputId": "a24bb493-c782-4b3d-f779-d83cc2115fa0"
      },
      "execution_count": 16,
      "outputs": [
        {
          "output_type": "stream",
          "name": "stdout",
          "text": [
            "num files: 2400\n"
          ]
        },
        {
          "output_type": "error",
          "ename": "KeyboardInterrupt",
          "evalue": "ignored",
          "traceback": [
            "\u001b[0;31m---------------------------------------------------------------------------\u001b[0m",
            "\u001b[0;31mKeyboardInterrupt\u001b[0m                         Traceback (most recent call last)",
            "\u001b[0;32m<ipython-input-16-e14403516da2>\u001b[0m in \u001b[0;36m<module>\u001b[0;34m()\u001b[0m\n\u001b[1;32m     32\u001b[0m \u001b[0mtrain_image_set\u001b[0m \u001b[0;34m=\u001b[0m \u001b[0mImgDataset\u001b[0m\u001b[0;34m(\u001b[0m\u001b[0mfiles\u001b[0m\u001b[0;34m,\u001b[0m \u001b[0mno_norm_transform\u001b[0m\u001b[0;34m)\u001b[0m\u001b[0;34m\u001b[0m\u001b[0;34m\u001b[0m\u001b[0m\n\u001b[1;32m     33\u001b[0m \u001b[0;34m\u001b[0m\u001b[0m\n\u001b[0;32m---> 34\u001b[0;31m \u001b[0mimgs\u001b[0m \u001b[0;34m=\u001b[0m \u001b[0mtorch\u001b[0m\u001b[0;34m.\u001b[0m\u001b[0mstack\u001b[0m\u001b[0;34m(\u001b[0m\u001b[0;34m[\u001b[0m\u001b[0mitem\u001b[0m\u001b[0;34m[\u001b[0m\u001b[0;36m0\u001b[0m\u001b[0;34m]\u001b[0m \u001b[0;32mfor\u001b[0m \u001b[0mitem\u001b[0m \u001b[0;32min\u001b[0m \u001b[0mtrain_image_set\u001b[0m\u001b[0;34m]\u001b[0m\u001b[0;34m,\u001b[0m \u001b[0mdim\u001b[0m\u001b[0;34m=\u001b[0m\u001b[0;36m0\u001b[0m\u001b[0;34m)\u001b[0m\u001b[0;34m.\u001b[0m\u001b[0mnumpy\u001b[0m\u001b[0;34m(\u001b[0m\u001b[0;34m)\u001b[0m\u001b[0;34m\u001b[0m\u001b[0;34m\u001b[0m\u001b[0m\n\u001b[0m",
            "\u001b[0;32m<ipython-input-16-e14403516da2>\u001b[0m in \u001b[0;36m<listcomp>\u001b[0;34m(.0)\u001b[0m\n\u001b[1;32m     32\u001b[0m \u001b[0mtrain_image_set\u001b[0m \u001b[0;34m=\u001b[0m \u001b[0mImgDataset\u001b[0m\u001b[0;34m(\u001b[0m\u001b[0mfiles\u001b[0m\u001b[0;34m,\u001b[0m \u001b[0mno_norm_transform\u001b[0m\u001b[0;34m)\u001b[0m\u001b[0;34m\u001b[0m\u001b[0;34m\u001b[0m\u001b[0m\n\u001b[1;32m     33\u001b[0m \u001b[0;34m\u001b[0m\u001b[0m\n\u001b[0;32m---> 34\u001b[0;31m \u001b[0mimgs\u001b[0m \u001b[0;34m=\u001b[0m \u001b[0mtorch\u001b[0m\u001b[0;34m.\u001b[0m\u001b[0mstack\u001b[0m\u001b[0;34m(\u001b[0m\u001b[0;34m[\u001b[0m\u001b[0mitem\u001b[0m\u001b[0;34m[\u001b[0m\u001b[0;36m0\u001b[0m\u001b[0;34m]\u001b[0m \u001b[0;32mfor\u001b[0m \u001b[0mitem\u001b[0m \u001b[0;32min\u001b[0m \u001b[0mtrain_image_set\u001b[0m\u001b[0;34m]\u001b[0m\u001b[0;34m,\u001b[0m \u001b[0mdim\u001b[0m\u001b[0;34m=\u001b[0m\u001b[0;36m0\u001b[0m\u001b[0;34m)\u001b[0m\u001b[0;34m.\u001b[0m\u001b[0mnumpy\u001b[0m\u001b[0;34m(\u001b[0m\u001b[0;34m)\u001b[0m\u001b[0;34m\u001b[0m\u001b[0;34m\u001b[0m\u001b[0m\n\u001b[0m",
            "\u001b[0;32m<ipython-input-16-e14403516da2>\u001b[0m in \u001b[0;36m__getitem__\u001b[0;34m(self, index)\u001b[0m\n\u001b[1;32m     19\u001b[0m     \u001b[0mx\u001b[0m \u001b[0;34m=\u001b[0m \u001b[0msig_data_dir\u001b[0m \u001b[0;34m+\u001b[0m \u001b[0mx\u001b[0m\u001b[0;34m[\u001b[0m\u001b[0;36m11\u001b[0m\u001b[0;34m:\u001b[0m\u001b[0;34m]\u001b[0m\u001b[0;34m\u001b[0m\u001b[0;34m\u001b[0m\u001b[0m\n\u001b[1;32m     20\u001b[0m     \u001b[0;31m# x = torchvision.io.read_image(x)\u001b[0m\u001b[0;34m\u001b[0m\u001b[0;34m\u001b[0m\u001b[0;34m\u001b[0m\u001b[0m\n\u001b[0;32m---> 21\u001b[0;31m     \u001b[0mx\u001b[0m \u001b[0;34m=\u001b[0m \u001b[0mImage\u001b[0m\u001b[0;34m.\u001b[0m\u001b[0mopen\u001b[0m\u001b[0;34m(\u001b[0m\u001b[0mx\u001b[0m\u001b[0;34m)\u001b[0m\u001b[0;34m.\u001b[0m\u001b[0mconvert\u001b[0m\u001b[0;34m(\u001b[0m\u001b[0;34m'L'\u001b[0m\u001b[0;34m)\u001b[0m\u001b[0;34m\u001b[0m\u001b[0;34m\u001b[0m\u001b[0m\n\u001b[0m\u001b[1;32m     22\u001b[0m     \u001b[0mx\u001b[0m \u001b[0;34m=\u001b[0m \u001b[0mself\u001b[0m\u001b[0;34m.\u001b[0m\u001b[0mimage_transform\u001b[0m\u001b[0;34m(\u001b[0m\u001b[0mx\u001b[0m\u001b[0;34m)\u001b[0m\u001b[0;34m\u001b[0m\u001b[0;34m\u001b[0m\u001b[0m\n\u001b[1;32m     23\u001b[0m     \u001b[0;32mreturn\u001b[0m \u001b[0mx\u001b[0m\u001b[0;34m\u001b[0m\u001b[0;34m\u001b[0m\u001b[0m\n",
            "\u001b[0;32m/usr/local/lib/python3.7/dist-packages/PIL/Image.py\u001b[0m in \u001b[0;36mconvert\u001b[0;34m(self, mode, matrix, dither, palette, colors)\u001b[0m\n\u001b[1;32m    899\u001b[0m         \"\"\"\n\u001b[1;32m    900\u001b[0m \u001b[0;34m\u001b[0m\u001b[0m\n\u001b[0;32m--> 901\u001b[0;31m         \u001b[0mself\u001b[0m\u001b[0;34m.\u001b[0m\u001b[0mload\u001b[0m\u001b[0;34m(\u001b[0m\u001b[0;34m)\u001b[0m\u001b[0;34m\u001b[0m\u001b[0;34m\u001b[0m\u001b[0m\n\u001b[0m\u001b[1;32m    902\u001b[0m \u001b[0;34m\u001b[0m\u001b[0m\n\u001b[1;32m    903\u001b[0m         \u001b[0;32mif\u001b[0m \u001b[0;32mnot\u001b[0m \u001b[0mmode\u001b[0m \u001b[0;32mand\u001b[0m \u001b[0mself\u001b[0m\u001b[0;34m.\u001b[0m\u001b[0mmode\u001b[0m \u001b[0;34m==\u001b[0m \u001b[0;34m\"P\"\u001b[0m\u001b[0;34m:\u001b[0m\u001b[0;34m\u001b[0m\u001b[0;34m\u001b[0m\u001b[0m\n",
            "\u001b[0;32m/usr/local/lib/python3.7/dist-packages/PIL/ImageFile.py\u001b[0m in \u001b[0;36mload\u001b[0;34m(self)\u001b[0m\n\u001b[1;32m    263\u001b[0m \u001b[0;34m\u001b[0m\u001b[0m\n\u001b[1;32m    264\u001b[0m         \u001b[0;32mif\u001b[0m \u001b[0mself\u001b[0m\u001b[0;34m.\u001b[0m\u001b[0m_exclusive_fp\u001b[0m \u001b[0;32mand\u001b[0m \u001b[0mself\u001b[0m\u001b[0;34m.\u001b[0m\u001b[0m_close_exclusive_fp_after_loading\u001b[0m\u001b[0;34m:\u001b[0m\u001b[0;34m\u001b[0m\u001b[0;34m\u001b[0m\u001b[0m\n\u001b[0;32m--> 265\u001b[0;31m             \u001b[0mself\u001b[0m\u001b[0;34m.\u001b[0m\u001b[0mfp\u001b[0m\u001b[0;34m.\u001b[0m\u001b[0mclose\u001b[0m\u001b[0;34m(\u001b[0m\u001b[0;34m)\u001b[0m\u001b[0;34m\u001b[0m\u001b[0;34m\u001b[0m\u001b[0m\n\u001b[0m\u001b[1;32m    266\u001b[0m         \u001b[0mself\u001b[0m\u001b[0;34m.\u001b[0m\u001b[0mfp\u001b[0m \u001b[0;34m=\u001b[0m \u001b[0;32mNone\u001b[0m\u001b[0;34m\u001b[0m\u001b[0;34m\u001b[0m\u001b[0m\n\u001b[1;32m    267\u001b[0m \u001b[0;34m\u001b[0m\u001b[0m\n",
            "\u001b[0;31mKeyboardInterrupt\u001b[0m: "
          ]
        }
      ]
    },
    {
      "cell_type": "code",
      "source": [
        "imgs.shape"
      ],
      "metadata": {
        "colab": {
          "base_uri": "https://localhost:8080/"
        },
        "id": "y4ykMnV6ijLJ",
        "outputId": "9309a62f-7cd3-457b-873c-dd8dc0be4a20"
      },
      "execution_count": 12,
      "outputs": [
        {
          "output_type": "execute_result",
          "data": {
            "text/plain": [
              "(2400, 155, 220)"
            ]
          },
          "metadata": {},
          "execution_count": 12
        }
      ]
    },
    {
      "cell_type": "code",
      "source": [
        "mean = imgs[:, :, :].mean()"
      ],
      "metadata": {
        "id": "Z5W5xYFLiaic"
      },
      "execution_count": 13,
      "outputs": []
    },
    {
      "cell_type": "code",
      "source": [
        "std_dev = imgs[:, :, :].std()"
      ],
      "metadata": {
        "id": "X3zCYip1iwyG"
      },
      "execution_count": 14,
      "outputs": []
    },
    {
      "cell_type": "code",
      "source": [
        "print('mean, std', mean, std_dev)"
      ],
      "metadata": {
        "colab": {
          "base_uri": "https://localhost:8080/"
        },
        "id": "FVoTgKMZi5il",
        "outputId": "40a93549-6535-4ee9-9cf3-13ffc29bea55"
      },
      "execution_count": 15,
      "outputs": [
        {
          "output_type": "stream",
          "name": "stdout",
          "text": [
            "mean, std 0.05041306 0.07968917\n"
          ]
        }
      ]
    },
    {
      "cell_type": "code",
      "source": [
        "files += get_files(sig_data_dir + \"test.csv\")\n",
        "print('num files:', len(files))\n",
        "\n",
        "image_transform = torchvision.transforms.Compose([\n",
        "    # \"We resize all the images to a fixed size 155×220 using bilinear interpolation.\"\n",
        "    torchvision.transforms.Resize((155, 220)), # Default is InterpolationMode.BILINEAR\n",
        "    # \"Afterwards, we invert the images so that the background pixels have 0 values.\"\n",
        "    ImageOps.invert,\n",
        "    torchvision.transforms.ToTensor(),\n",
        "    # \"Furthermore, we normalize each image by dividing the pixel values with the standard deviation of the pixel values of the images in a dataset.\"\n",
        "    # I'm (Andrew) assuming that we subtract the mean first...\n",
        "    torchvision.transforms.Normalize(mean, std_dev),\n",
        "])\n",
        "image_set = list(ImgDataset(files, image_transform))\n",
        "file_dict = {}\n",
        "for i in range(len(files)):\n",
        "  file_dict[files[i]] = i\n",
        "\n",
        "torch.save(image_set, sig_data_dir + 'image_set.pt')\n",
        "torch.save(file_dict, sig_data_dir + 'file_dict.pt')"
      ],
      "metadata": {
        "colab": {
          "base_uri": "https://localhost:8080/"
        },
        "id": "fYGjvV_JoB5q",
        "outputId": "623bd66a-c301-42b8-e001-3aaa2038bf28"
      },
      "execution_count": 19,
      "outputs": [
        {
          "output_type": "stream",
          "name": "stdout",
          "text": [
            "num files: 2880\n"
          ]
        }
      ]
    },
    {
      "cell_type": "code",
      "source": [
        ""
      ],
      "metadata": {
        "id": "7z7pKPxWoCHB"
      },
      "execution_count": null,
      "outputs": []
    },
    {
      "cell_type": "code",
      "source": [
        ""
      ],
      "metadata": {
        "id": "sRFk2NCVoCQS"
      },
      "execution_count": null,
      "outputs": []
    },
    {
      "cell_type": "code",
      "source": [
        "# create data sets\n",
        "'''\n",
        "The files are stored in 2 directories.\n",
        "One contains genuine signatres.\n",
        "The other contains forgeries.\n",
        "Then, there are csv files which store file names.\n",
        "'''\n",
        "\n",
        "seed = 2020\n",
        "np.random.seed(seed)\n",
        "batch_size = 8 # 32\n",
        "learning_rate = 1e-5\n",
        "\n",
        "class SignDataset(Dataset):\n",
        "    def __init__(self, csv_file: str, image_transform=None):\n",
        "        self.df = pd.read_csv(csv_file, header=None)\n",
        "        self.image_transform = image_transform\n",
        "\n",
        "    def __len__(self):\n",
        "        return len(self.df)\n",
        "\n",
        "    def __getitem__(self, index):\n",
        "        x1, x2, y = self.df.iloc[index]\n",
        "\n",
        "        # hack off the \"data/CEDAR/\" and add on sig_data_dir\n",
        "        x1 = sig_data_dir + x1[11:]\n",
        "        x2 = sig_data_dir + x2[11:]\n",
        "\n",
        "        x1 = Image.open(x1).convert('L')\n",
        "        x2 = Image.open(x2).convert('L')\n",
        "        \n",
        "        if self.image_transform:\n",
        "            x1 = self.image_transform(x1)\n",
        "            x2 = self.image_transform(x2)\n",
        "\n",
        "        return x1, x2, y\n",
        "\n",
        "image_transform = torchvision.transforms.Compose([\n",
        "    # \"We resize all the images to a fixed size 155×220 using bilinear interpolation.\"\n",
        "    torchvision.transforms.Resize((155, 220)), # Default is InterpolationMode.BILINEAR\n",
        "    # \"Afterwards, we invert the images so that the background pixels have 0 values.\"\n",
        "    ImageOps.invert,\n",
        "    torchvision.transforms.ToTensor(),\n",
        "    # \"Furthermore, we normalize each image by dividing the pixel values with the standard deviation of the pixel values of the images in a dataset.\"\n",
        "    # I'm (Andrew) assuming that we subtract the mean first...\n",
        "    torchvision.transforms.Normalize(mean, std_dev),\n",
        "])\n",
        "\n",
        "train_set = SignDataset(sig_data_dir + \"train.csv\", image_transform)\n",
        "train_loader = DataLoader(train_set, batch_size=batch_size, shuffle=True, pin_memory=True)\n",
        "val_set = SignDataset(sig_data_dir + \"test.csv\", image_transform)\n",
        "val_loader = DataLoader(val_set, batch_size=batch_size, shuffle=False, pin_memory=True)\n"
      ],
      "metadata": {
        "id": "-RJw-deYpwIi"
      },
      "execution_count": null,
      "outputs": []
    },
    {
      "cell_type": "code",
      "source": [
        "x1s, x2s, labels = next(iter(val_loader))"
      ],
      "metadata": {
        "id": "JE3lpsmVw-BW"
      },
      "execution_count": 4,
      "outputs": []
    },
    {
      "cell_type": "code",
      "source": [
        "img = train_set[0][0][0].numpy()\n",
        "plt.imshow(img)\n",
        "plt.show()"
      ],
      "metadata": {
        "colab": {
          "base_uri": "https://localhost:8080/",
          "height": 269
        },
        "id": "oGcgC0cfw-HR",
        "outputId": "6b609f67-f9df-4937-c3bb-2391ebbfb308"
      },
      "execution_count": 5,
      "outputs": [
        {
          "output_type": "display_data",
          "data": {
            "text/plain": [
              "<Figure size 432x288 with 1 Axes>"
            ],
            "image/png": "[encoded data removed]"
          },
          "metadata": {
            "needs_background": "light"
          }
        }
      ]
    },
    {
      "cell_type": "code",
      "source": [
        ""
      ],
      "metadata": {
        "id": "7wZs9B-Mw-L1"
      },
      "execution_count": 5,
      "outputs": []
    },
    {
      "cell_type": "code",
      "source": [
        "class SigNet(nn.Module):\n",
        "    '''\n",
        "    Reference Keras: https://github.com/sounakdey/SigNet/blob/master/SigNet_v1.py\n",
        "    '''\n",
        "    def __init__(self):\n",
        "        super().__init__()\n",
        "        self.features = nn.Sequential(\n",
        "            #input size = [155, 220, 1]\n",
        "            nn.Conv2d(1, 96, 11), # size = [145,210]\n",
        "            nn.ReLU(),\n",
        "            nn.LocalResponseNorm(size=5, k=2, alpha=1e-4, beta=0.75),\n",
        "            nn.MaxPool2d(2, stride=2), # size = [72, 105]\n",
        "            nn.Conv2d(96, 256, 5, padding=2, padding_mode='zeros'), # size = [72, 105]\n",
        "            nn.LocalResponseNorm(size=5, k=2, alpha=1e-4, beta=0.75),\n",
        "            nn.MaxPool2d(2, stride=2), # size = [36, 52]\n",
        "            nn.Dropout2d(p=0.3),\n",
        "            nn.Conv2d(256, 384, 3, stride=1, padding=1, padding_mode='zeros'),\n",
        "            nn.Conv2d(384, 256, 3, stride=1, padding=1, padding_mode='zeros'),\n",
        "            nn.MaxPool2d(2, stride=2), # size = [18, 26]\n",
        "            nn.Dropout2d(p=0.3),\n",
        "            nn.Flatten(1, -1), # 18*26*256\n",
        "            nn.Linear(18*26*256, 1024),\n",
        "            nn.Dropout2d(p=0.5),\n",
        "            nn.Linear(1024, 256),\n",
        "        )\n",
        "\n",
        "        # TODO: init bias = 0\n",
        "\n",
        "    def forward(self, x1, x2):\n",
        "        x1 = self.features(x1)\n",
        "        x2 = self.features(x2)\n",
        "        return x1, x2"
      ],
      "metadata": {
        "id": "pF6vAXKY4Zf5"
      },
      "execution_count": 6,
      "outputs": []
    },
    {
      "cell_type": "code",
      "source": [
        "class ContrastiveLoss(nn.Module):\n",
        "    def __init__(self, alpha, beta, margin):\n",
        "        super().__init__()\n",
        "        self.alpha = alpha\n",
        "        self.beta = beta\n",
        "        self.margin = margin\n",
        "\n",
        "    def forward(self, x1, x2, y):\n",
        "        '''\n",
        "        Shapes:\n",
        "        -------\n",
        "        x1: [B,C]\n",
        "        x2: [B,C]\n",
        "        y: [B,1]\n",
        "\n",
        "        Returns:\n",
        "        --------\n",
        "        loss: [B,1]]\n",
        "        '''\n",
        "        distance = torch.pairwise_distance(x1, x2, p=2)\n",
        "        loss = self.alpha * (1-y) * distance**2 + \\\n",
        "               self.beta * y * (torch.max(torch.zeros_like(distance), self.margin - distance)**2)\n",
        "        return torch.mean(loss, dtype=torch.float)"
      ],
      "metadata": {
        "id": "f_nJKyWl4Zlk"
      },
      "execution_count": 7,
      "outputs": []
    },
    {
      "cell_type": "code",
      "source": [
        "seed = 2020\n",
        "torch.manual_seed(seed)\n",
        "torch.cuda.manual_seed_all(seed)\n",
        "device = 'cuda' if torch.cuda.is_available() else 'cpu'\n",
        "print('Device: {}'.format(device))"
      ],
      "metadata": {
        "colab": {
          "base_uri": "https://localhost:8080/"
        },
        "id": "nym-e4BV4Zo4",
        "outputId": "e9b532be-903f-44f2-a88c-13a9c7e402b8"
      },
      "execution_count": 8,
      "outputs": [
        {
          "output_type": "stream",
          "name": "stdout",
          "text": [
            "Device: cpu\n"
          ]
        }
      ]
    },
    {
      "cell_type": "code",
      "source": [
        "def train(model, optimizer, criterion, dataloader, log_interval=50):\n",
        "    model.train()\n",
        "    running_loss = 0\n",
        "    number_samples = 0\n",
        "\n",
        "    for batch_idx, (x1, x2, y) in enumerate(dataloader):\n",
        "        x1, x2, y = x1.to(device), x2.to(device), y.to(device)\n",
        "\n",
        "        optimizer.zero_grad()\n",
        "        x1, x2 = model(x1, x2)\n",
        "        loss = criterion(x1, x2, y)\n",
        "        loss.backward()\n",
        "        optimizer.step()\n",
        "\n",
        "        number_samples += len(x1)\n",
        "        running_loss += loss.item() * len(x1)\n",
        "        if (batch_idx + 1) % log_interval == 0 or batch_idx == len(dataloader) - 1:\n",
        "            print('{}/{}: Loss: {:.4f}'.format(batch_idx+1, len(dataloader), running_loss / number_samples))\n",
        "            running_loss = 0\n",
        "            number_samples = 0\n",
        "\n",
        "def accuracy(distances, y, step=0.01):\n",
        "    min_threshold_d = min(distances)\n",
        "    max_threshold_d = max(distances)\n",
        "    max_acc = 0\n",
        "    same_id = (y == 1)\n",
        "\n",
        "    for threshold_d in torch.arange(min_threshold_d, max_threshold_d+step, step):\n",
        "        true_positive = (distances <= threshold_d) & (same_id)\n",
        "        true_positive_rate = true_positive.sum().float() / same_id.sum().float()\n",
        "        true_negative = (distances > threshold_d) & (~same_id)\n",
        "        true_negative_rate = true_negative.sum().float() / (~same_id).sum().float()\n",
        "\n",
        "        acc = 0.5 * (true_negative_rate + true_positive_rate)\n",
        "        max_acc = max(max_acc, acc)\n",
        "    return max_acc\n",
        "\n",
        "@torch.no_grad()\n",
        "def eval(model, criterion, dataloader, log_interval=50):\n",
        "    model.eval()\n",
        "    running_loss = 0\n",
        "    number_samples = 0\n",
        "\n",
        "    distances = []\n",
        "\n",
        "    for batch_idx, (x1, x2, y) in enumerate(dataloader):\n",
        "        x1, x2, y = x1.to(device), x2.to(device), y.to(device)\n",
        "\n",
        "        x1, x2 = model(x1, x2)\n",
        "        loss = criterion(x1, x2, y)\n",
        "        distances.extend(zip(torch.pairwise_distance(x1, x2, 2).cpu().tolist(), y.cpu().tolist()))\n",
        "\n",
        "        number_samples += len(x1)\n",
        "        running_loss += loss.item() * len(x1)\n",
        "\n",
        "        if (batch_idx + 1) % log_interval == 0 or batch_idx == len(dataloader) - 1:\n",
        "            print('{}/{}: Loss: {:.4f}'.format(batch_idx+1, len(dataloader), running_loss / number_samples))\n",
        "\n",
        "    distances, y = zip(*distances)\n",
        "    distances, y = torch.tensor(distances), torch.tensor(y)\n",
        "    max_accuracy = accuracy(distances, y)\n",
        "    print(f'Max accuracy: {max_accuracy}')\n",
        "    return running_loss / number_samples, max_accuracy"
      ],
      "metadata": {
        "id": "45Mql7Dd4sD_"
      },
      "execution_count": 9,
      "outputs": []
    },
    {
      "cell_type": "code",
      "source": [
        "def do_training():\n",
        "    model = SigNet().to(device)\n",
        "    criterion = ContrastiveLoss(alpha=1, beta=1, margin=1).to(device)\n",
        "    optimizer = optim.RMSprop(model.parameters(), lr=1e-5, eps=1e-8, weight_decay=5e-4, momentum=0.9)\n",
        "    scheduler = optim.lr_scheduler.StepLR(optimizer, 5, 0.1)\n",
        "    num_epochs = 20\n",
        "\n",
        "    model.train()\n",
        "    print(model)\n",
        "    for epoch in range(num_epochs):\n",
        "        print('Epoch {}/{}'.format(epoch, num_epochs))\n",
        "        print('Training', '-'*20)\n",
        "        train(model, optimizer, criterion, train_loader)\n",
        "        print('Evaluating', '-'*20)\n",
        "        loss, acc = eval(model, criterion, val_loader)\n",
        "        scheduler.step()\n",
        "\n",
        "        to_save = {\n",
        "            'model': model.state_dict(),\n",
        "            'scheduler': scheduler.state_dict(),\n",
        "            'optim': optimizer.state_dict(),\n",
        "        }\n",
        "\n",
        "        print('Saving checkpoint..')\n",
        "        torch.save(to_save, sig_data_dir + 'epoch_{}_loss_{:.3f}_acc_{:.3f}.pt'.format(epoch, loss, acc))\n",
        "\n",
        "    print('Done')"
      ],
      "metadata": {
        "id": "CcMhdF6H4sI9"
      },
      "execution_count": 10,
      "outputs": []
    },
    {
      "cell_type": "code",
      "source": [
        "do_training()"
      ],
      "metadata": {
        "colab": {
          "base_uri": "https://localhost:8080/"
        },
        "id": "II5QPttt4Zq9",
        "outputId": "34b4ca68-ad44-4dee-ba6d-8e96e5553fe0"
      },
      "execution_count": null,
      "outputs": [
        {
          "metadata": {
            "tags": null
          },
          "name": "stdout",
          "output_type": "stream",
          "text": [
            "SigNet(\n",
            "  (features): Sequential(\n",
            "    (0): Conv2d(1, 96, kernel_size=(11, 11), stride=(1, 1))\n",
            "    (1): ReLU()\n",
            "    (2): LocalResponseNorm(5, alpha=0.0001, beta=0.75, k=2)\n",
            "    (3): MaxPool2d(kernel_size=2, stride=2, padding=0, dilation=1, ceil_mode=False)\n",
            "    (4): Conv2d(96, 256, kernel_size=(5, 5), stride=(1, 1), padding=(2, 2))\n",
            "    (5): LocalResponseNorm(5, alpha=0.0001, beta=0.75, k=2)\n",
            "    (6): MaxPool2d(kernel_size=2, stride=2, padding=0, dilation=1, ceil_mode=False)\n",
            "    (7): Dropout2d(p=0.3, inplace=False)\n",
            "    (8): Conv2d(256, 384, kernel_size=(3, 3), stride=(1, 1), padding=(1, 1))\n",
            "    (9): Conv2d(384, 256, kernel_size=(3, 3), stride=(1, 1), padding=(1, 1))\n",
            "    (10): MaxPool2d(kernel_size=2, stride=2, padding=0, dilation=1, ceil_mode=False)\n",
            "    (11): Dropout2d(p=0.3, inplace=False)\n",
            "    (12): Flatten(start_dim=1, end_dim=-1)\n",
            "    (13): Linear(in_features=119808, out_features=1024, bias=True)\n",
            "    (14): Dropout2d(p=0.5, inplace=False)\n",
            "    (15): Linear(in_features=1024, out_features=256, bias=True)\n",
            "  )\n",
            ")\n",
            "Epoch 0/20\n",
            "Training --------------------\n",
            "50/3450: Loss: 2.1925\n",
            "100/3450: Loss: 0.3118\n",
            "150/3450: Loss: 0.2361\n",
            "200/3450: Loss: 0.2316\n",
            "250/3450: Loss: 0.2213\n",
            "300/3450: Loss: 0.2144\n",
            "350/3450: Loss: 0.2260\n",
            "400/3450: Loss: 0.2207\n",
            "450/3450: Loss: 0.2235\n",
            "500/3450: Loss: 0.2266\n",
            "550/3450: Loss: 0.2230\n",
            "600/3450: Loss: 0.2245\n",
            "650/3450: Loss: 0.2363\n",
            "700/3450: Loss: 0.2255\n",
            "750/3450: Loss: 0.2517\n",
            "800/3450: Loss: 0.2227\n",
            "850/3450: Loss: 0.2234\n",
            "900/3450: Loss: 0.2402\n",
            "950/3450: Loss: 0.2312\n",
            "1000/3450: Loss: 0.2339\n"
          ]
        }
      ]
    },
    {
      "cell_type": "code",
      "source": [
        ""
      ],
      "metadata": {
        "id": "a221ee1_j5qm"
      },
      "execution_count": null,
      "outputs": []
    }
  ],
  "metadata": {
    "language_info": {
      "name": "python"
    },
    "orig_nbformat": 4,
    "colab": {
      "name": "ELEC 874 Project.ipynb",
      "provenance": [],
      "collapsed_sections": [],
      "include_colab_link": true
    },
    "kernelspec": {
      "name": "python3",
      "display_name": "Python 3"
    }
  },
  "nbformat": 4,
  "nbformat_minor": 0
}